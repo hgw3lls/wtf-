{
  "nbformat": 4,
  "nbformat_minor": 0,
  "metadata": {
    "colab": {
      "name": "prepare_wtf.ipynb",
      "provenance": [],
      "collapsed_sections": []
    },
    "kernelspec": {
      "name": "python3",
      "display_name": "Python 3"
    },
    "language_info": {
      "name": "python"
    }
  },
  "cells": [
    {
      "cell_type": "code",
      "metadata": {
        "colab": {
          "base_uri": "https://localhost:8080/"
        },
        "id": "_fDI4OCVe-Im",
        "outputId": "50f9d597-9be7-4526-c571-edbfd272efe9"
      },
      "source": [
        "!git clone https://github.com/hgw3lls/wtf-\n",
        "%cd wtf-"
      ],
      "execution_count": null,
      "outputs": [
        {
          "output_type": "stream",
          "text": [
            "Cloning into 'wtf-'...\n",
            "remote: Enumerating objects: 2217, done.\u001b[K\n",
            "remote: Counting objects: 100% (573/573), done.\u001b[K\n",
            "remote: Compressing objects: 100% (569/569), done.\u001b[K\n",
            "remote: Total 2217 (delta 5), reused 570 (delta 2), pack-reused 1644\u001b[K\n",
            "Receiving objects: 100% (2217/2217), 1.47 GiB | 31.08 MiB/s, done.\n",
            "Resolving deltas: 100% (7/7), done.\n",
            "Checking out files: 100% (2289/2289), done.\n",
            "/content/wtf-\n"
          ],
          "name": "stdout"
        }
      ]
    },
    {
      "cell_type": "code",
      "metadata": {
        "id": "ru9YGbZYg5Rk"
      },
      "source": [
        "!rm -rf .ipynb_checkpoints"
      ],
      "execution_count": null,
      "outputs": []
    },
    {
      "cell_type": "code",
      "metadata": {
        "id": "2NVLUi3ME78y"
      },
      "source": [
        "<div class=\"col\">\n",
        "\t\t\t<a href=\"#\">\n",
        "\t\t\t\t<div class=\"hover\">\n",
        "\t\t\t\t\t<div class=\"pad align-bottom\">\n",
        "\t\t\t\t\t\t<h2>Project Title</h2>\n",
        "\t\t\t\t\t</div>\n",
        "\t\t\t\t</div>\n",
        "\t\t\t\t<div class=\"bg-img\" style=\"background-image:url(http://www.caseycallis.com/codepen/img7.jpg);\"></div>\n",
        "\t\t\t</a>\n",
        "\t\t</div>"
      ],
      "execution_count": null,
      "outputs": []
    },
    {
      "cell_type": "code",
      "metadata": {
        "colab": {
          "base_uri": "https://localhost:8080/"
        },
        "id": "4WfzU2RHez-z",
        "outputId": "c117c515-3755-41c8-8964-e5bc2bc313be"
      },
      "source": [
        "import os\n",
        "f = open(\"index.html\", \"a\")\n",
        "\n",
        "dir = \"/content/wtf-/\"\n",
        "rows = ['aworld/','cyberpunk_bible/','howmachine/','im_wrld_art/','liminal/','machineimg/','metal_album/','nbending/','portrait_death/','sim_machine/','sparalysis/','subatom-landscape/']\n",
        "begin = \"\"\"<!DOCTYPE html>\n",
        "<html lang=\"en\" >\n",
        "<head>\n",
        "  <meta charset=\"UTF-8\">\n",
        "  <title>CodePen - Parallax Grid</title>\n",
        "  <meta name=\"viewport\" content=\"width=device-width, initial-scale=1\">\n",
        "<link href=\"https://fonts.googleapis.com/css?family=Montserrat:300,400,700|Voltaire\" rel=\"stylesheet\"><link rel=\"stylesheet\" href=\"https://cdnjs.cloudflare.com/ajax/libs/normalize/5.0.0/normalize.min.css\">\n",
        "<link rel=\"stylesheet\" href=\"./style.css\">\n",
        "\n",
        "</head>\n",
        "<body>\n",
        "<section id=\"scene\" data-pointer-events=\"true\" data-x-origin=\"0.5\" data-y-origin=\"0.5\" data-scalar-y=\"150.0\" data-scalar-x=\"100.0\" data-friction-x=\"0.05\" data-friction-y=\"0.05\">\n",
        "\t<div class=\"layer main\" data-depth=\"1.0\">\n",
        "  \"\"\"\n",
        "f.write(begin)\n",
        "html = \"\"\"<div class=\"col\">\n",
        "\t\t\t<a href=\"#\">\n",
        "\t\t\t\t<div class=\"hover\">\n",
        "\t\t\t\t\t<div class=\"pad align-bottom\">\n",
        "\t\t\t\t\t\t<h2>Project Title</h2>\n",
        "\t\t\t\t\t</div>\n",
        "\t\t\t\t</div>\n",
        "        \"\"\"\n",
        "end = \"\"\");\"></div>\n",
        "\t\t\t</a>\n",
        "\t\t</div>\"\"\"\n",
        "\n",
        "for row in rows:\n",
        "  arr = os.listdir(dir+row)\n",
        "  arr.sort()\n",
        "  arr = arr[1:]\n",
        "  # print(arr)\n",
        "  for img in arr:\n",
        "    # print(img)\n",
        "    c = img.split('-')\n",
        "    title = c[0]\n",
        "    writer = html+'<div class=\"bg-img\" style=\"background-image:url(https://github.com/hgw3lls/wtf-/raw/main/' + title + '/' + img+end\n",
        "    f.write(writer)\n",
        "btm = \"\"\"\n",
        "</section>\n",
        "<!-- partial -->\n",
        "  <script src='https://cdnjs.cloudflare.com/ajax/libs/jquery/3.2.1/jquery.min.js'></script>\n",
        "<script src='https://cdnjs.cloudflare.com/ajax/libs/parallax/2.1.3/parallax.min.js'></script><script  src=\"./script.js\"></script>\n",
        "\n",
        "</body>\n",
        "</html>\n",
        "\"\"\"\n",
        "f.write(btm)\n",
        "\n",
        "# img_prefix = '<div class=\"bg-img\" style=\"background-image:url('\n",
        "# row_prefix = \"\"\"<div class=\"row\">\n",
        "# \"\"\"\n",
        "# col_prefix = \"\"\"<div class=\"column\">\n",
        "# \"\"\"\n",
        "# all_material = []\n",
        "# for row in rows:\n",
        "#   arr = os.listdir('/content/wtf-/'+row)\n",
        "#   arr.sort()\n",
        "#   arr = arr[1:]\n",
        "#   rws = rws+row_prefix\n",
        "#   cols = \"\"\n",
        "#   column = []\n",
        "#   for images in arr: \n",
        "#     fn = images\n",
        "#     c = images.split('-')\n",
        "#     title = c[0]\n",
        "#     alt_txt = title\n",
        "#     img_tag = 'https://github.com/hgw3lls/wtf-/raw/main/' + title + '/' + fn    \n",
        "#     column.append(img_tag)\n",
        "#   all_material.append(column)\n",
        "# # print(len(all_material))\n",
        "\n",
        "# html = \"\"\n",
        "# columns = []\n",
        "# for i in range(0,len(all_material)):\n",
        "#   # html = html + \n",
        "#   columns.append(all_material[i])\n",
        "# # print(len(columns))\n",
        "# for column in columns:\n",
        "#   print(col_prefix)\n",
        "#   for cl in column:\n",
        "#     alt_txt = \"alt\"\n",
        "#     print(img_prefix+cl+');\"></div>')\n",
        "#   print('</div>')\n",
        "# print('</div>')\n",
        "#   # fn +'\" alt=\"'+alt_txt+'\" />\\n'\n",
        "#   # xcol = cols + \"</div>\"\n",
        "#   # column.append(xcol) \n",
        "#     # \"View of how machine sees the world | generative algorithms see the world | internal model of the world\"\n",
        "#     # html = html+title+'/'+fn+'\" alt=\"'+alt_txt+'\" />\\n</div>'\n",
        "#     # print(html)\n",
        "\n"
      ],
      "execution_count": 94,
      "outputs": [
        {
          "output_type": "execute_result",
          "data": {
            "text/plain": [
              "268"
            ]
          },
          "metadata": {
            "tags": []
          },
          "execution_count": 94
        }
      ]
    }
  ]
}